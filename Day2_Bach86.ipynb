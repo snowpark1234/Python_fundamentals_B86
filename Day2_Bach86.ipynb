{
 "cells": [
  {
   "cell_type": "code",
   "execution_count": null,
   "id": "44431092-70d5-4fc5-b4ee-27aa8a0e7bfc",
   "metadata": {},
   "outputs": [],
   "source": [
    "Topic:Variables in Python"
   ]
  },
  {
   "cell_type": "code",
   "execution_count": 5,
   "id": "7aa7be5c-cce9-43a1-b9db-a2e236ed265c",
   "metadata": {},
   "outputs": [],
   "source": [
    "x=5\n",
    "y=6"
   ]
  },
  {
   "cell_type": "code",
   "execution_count": 11,
   "id": "31e7ccc8-f5a5-4872-b7af-53fbdb508c81",
   "metadata": {},
   "outputs": [
    {
     "name": "stdout",
     "output_type": "stream",
     "text": [
      "11\n"
     ]
    }
   ],
   "source": [
    "z=x+y\n",
    "print(z)"
   ]
  },
  {
   "cell_type": "code",
   "execution_count": null,
   "id": "23891409-3dc8-4ef4-ada2-3b53e4eeb305",
   "metadata": {},
   "outputs": [],
   "source": [
    "3 Rules need to be followed while declaring the variable\n",
    "1.No Namespace while declaring the variable\n",
    "2.A Variable should not start with Number\n",
    "3.A Variable should not contain any Special characteristics while declaring"
   ]
  },
  {
   "cell_type": "code",
   "execution_count": 3,
   "id": "8472d096-1391-4f59-9d90-50a0720e81d4",
   "metadata": {},
   "outputs": [
    {
     "ename": "SyntaxError",
     "evalue": "invalid syntax (3270907329.py, line 1)",
     "output_type": "error",
     "traceback": [
      "\u001b[1;36m  Cell \u001b[1;32mIn[3], line 1\u001b[1;36m\u001b[0m\n\u001b[1;33m    first name= 'Lakshmikanth'\u001b[0m\n\u001b[1;37m          ^\u001b[0m\n\u001b[1;31mSyntaxError\u001b[0m\u001b[1;31m:\u001b[0m invalid syntax\n"
     ]
    }
   ],
   "source": [
    "first name= 'Lakshmikanth'\n",
    "print(first name)"
   ]
  },
  {
   "cell_type": "code",
   "execution_count": 4,
   "id": "7d65eea7-12c1-4822-8831-cbd9ece133a2",
   "metadata": {},
   "outputs": [
    {
     "name": "stdout",
     "output_type": "stream",
     "text": [
      "Lakshmikanth\n"
     ]
    }
   ],
   "source": [
    "firstname='Lakshmikanth'\n",
    "print(firstname)"
   ]
  },
  {
   "cell_type": "code",
   "execution_count": 12,
   "id": "453305e0-67eb-485c-9823-3afacb59ec2f",
   "metadata": {},
   "outputs": [
    {
     "ename": "SyntaxError",
     "evalue": "invalid decimal literal (2905073457.py, line 1)",
     "output_type": "error",
     "traceback": [
      "\u001b[1;36m  Cell \u001b[1;32mIn[12], line 1\u001b[1;36m\u001b[0m\n\u001b[1;33m    1firstname='Lakshmikanth'\u001b[0m\n\u001b[1;37m    ^\u001b[0m\n\u001b[1;31mSyntaxError\u001b[0m\u001b[1;31m:\u001b[0m invalid decimal literal\n"
     ]
    }
   ],
   "source": [
    "1firstname='Lakshmikanth'\n",
    "print(1firstname)"
   ]
  },
  {
   "cell_type": "code",
   "execution_count": 13,
   "id": "c2989445-c82d-48d9-a56b-620e539bf8cd",
   "metadata": {},
   "outputs": [
    {
     "name": "stdout",
     "output_type": "stream",
     "text": [
      "Lakshmikanth\n"
     ]
    }
   ],
   "source": [
    "firstname1='Lakshmikanth'\n",
    "print(firstname1)"
   ]
  },
  {
   "cell_type": "code",
   "execution_count": 14,
   "id": "a2ceb458-252f-4960-89cd-5c63a14795e4",
   "metadata": {},
   "outputs": [
    {
     "ename": "SyntaxError",
     "evalue": "invalid syntax (3713051986.py, line 2)",
     "output_type": "error",
     "traceback": [
      "\u001b[1;36m  Cell \u001b[1;32mIn[14], line 2\u001b[1;36m\u001b[0m\n\u001b[1;33m    print(firstname@)\u001b[0m\n\u001b[1;37m                    ^\u001b[0m\n\u001b[1;31mSyntaxError\u001b[0m\u001b[1;31m:\u001b[0m invalid syntax\n"
     ]
    }
   ],
   "source": [
    "firstname@='Lakshmikanth'\n",
    "print(firstname@)"
   ]
  },
  {
   "cell_type": "code",
   "execution_count": null,
   "id": "030d67aa-e856-42e9-8b52-c1e26530b3a2",
   "metadata": {},
   "outputs": [],
   "source": [
    "Introduction to data types:\n",
    "1.Stirng===>str\n",
    "2.Number(integers===>int and Floats(decimals==>01.,0.2)==>float\n",
    "3.Lists===>list\n",
    "4.Tuples==>tuple\n",
    "5.Dictionaries==>dict"
   ]
  },
  {
   "cell_type": "code",
   "execution_count": null,
   "id": "bde2daa3-254a-4a4e-9e79-748f1400f49c",
   "metadata": {},
   "outputs": [],
   "source": [
    "Classification of data types:\n",
    "It has been clasified into two categories\n",
    "1.Mutable===>which we can edit/alter\n",
    "2.Immutable==>which we can edit/alter"
   ]
  },
  {
   "cell_type": "code",
   "execution_count": null,
   "id": "e6af30c1-a1d1-4306-9595-4d9a471a9164",
   "metadata": {},
   "outputs": [],
   "source": [
    "1. String data type\"\n",
    "-String consists of series of characteristics which are declared in Quotes either single or double (quotes)\n",
    "-Classification of string is Immutable data type\n"
   ]
  },
  {
   "cell_type": "code",
   "execution_count": 15,
   "id": "4c84d2d2-d596-4d01-b82c-d646bd9b53da",
   "metadata": {},
   "outputs": [
    {
     "name": "stdout",
     "output_type": "stream",
     "text": [
      "lakshmikanth\n"
     ]
    }
   ],
   "source": [
    "name='lakshmikanth'\n",
    "print(name)"
   ]
  },
  {
   "cell_type": "code",
   "execution_count": 16,
   "id": "735d4ca9-d6d0-4f8b-a14e-d2d5e12a82b2",
   "metadata": {},
   "outputs": [
    {
     "name": "stdout",
     "output_type": "stream",
     "text": [
      "lakshmikanth\n"
     ]
    }
   ],
   "source": [
    "name=\"lakshmikanth\"\n",
    "print(name)"
   ]
  },
  {
   "cell_type": "code",
   "execution_count": null,
   "id": "5ae1a4c8-8304-4273-bc18-88d9b648c633",
   "metadata": {},
   "outputs": [],
   "source": [
    "Introduction of String Methods:\n",
    "1.type---will tell which data type it is\n",
    "2.title--Title of the description will change to Upper case letters\n",
    "3.upper--Converting all the characteristics to Upper case\n",
    "4.lower--Converting all the characteristics to Upper case"
   ]
  },
  {
   "cell_type": "code",
   "execution_count": 17,
   "id": "27fbc80b-c997-4dca-8b9b-aca7461be9da",
   "metadata": {},
   "outputs": [
    {
     "data": {
      "text/plain": [
       "str"
      ]
     },
     "execution_count": 17,
     "metadata": {},
     "output_type": "execute_result"
    }
   ],
   "source": [
    "type(name)"
   ]
  },
  {
   "cell_type": "code",
   "execution_count": 18,
   "id": "e05fd1cc-2b28-4fbe-9499-647eeadcbf74",
   "metadata": {},
   "outputs": [
    {
     "name": "stdout",
     "output_type": "stream",
     "text": [
      "Lakshmikanth Padiri\n"
     ]
    }
   ],
   "source": [
    "fullname=\"lakshmikanth padiri\"\n",
    "print(fullname.title())"
   ]
  },
  {
   "cell_type": "code",
   "execution_count": 19,
   "id": "8e40afcd-8185-4f8e-885c-057556aa5bd4",
   "metadata": {},
   "outputs": [
    {
     "name": "stdout",
     "output_type": "stream",
     "text": [
      "LAKSHMIKANTH PADIRI\n"
     ]
    }
   ],
   "source": [
    "print(fullname.upper())"
   ]
  },
  {
   "cell_type": "code",
   "execution_count": 20,
   "id": "644e9e9d-7d2d-4698-b651-374b5372313c",
   "metadata": {},
   "outputs": [
    {
     "name": "stdout",
     "output_type": "stream",
     "text": [
      "lakshmikanth padiri\n"
     ]
    }
   ],
   "source": [
    "print(fullname.lower())"
   ]
  },
  {
   "cell_type": "code",
   "execution_count": null,
   "id": "b65b4b1c-6260-47ac-ae02-a56312ba4df9",
   "metadata": {},
   "outputs": [],
   "source": []
  }
 ],
 "metadata": {
  "kernelspec": {
   "display_name": "Python 3 (ipykernel)",
   "language": "python",
   "name": "python3"
  },
  "language_info": {
   "codemirror_mode": {
    "name": "ipython",
    "version": 3
   },
   "file_extension": ".py",
   "mimetype": "text/x-python",
   "name": "python",
   "nbconvert_exporter": "python",
   "pygments_lexer": "ipython3",
   "version": "3.11.7"
  }
 },
 "nbformat": 4,
 "nbformat_minor": 5
}
