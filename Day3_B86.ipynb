{
 "cells": [
  {
   "cell_type": "code",
   "execution_count": null,
   "id": "514a10ec-7978-4909-8379-eb6e061798d9",
   "metadata": {},
   "outputs": [],
   "source": [
    "#General syntax of f string:"
   ]
  },
  {
   "cell_type": "code",
   "execution_count": 8,
   "id": "888cd172-9fcf-4dfa-ae70-4f3c02bc243a",
   "metadata": {},
   "outputs": [
    {
     "name": "stdout",
     "output_type": "stream",
     "text": [
      "lakshmikanth\n"
     ]
    }
   ],
   "source": [
    "firstname=\"lakshmikanth\"\n",
    "lastname=\"padiri\"\n",
    "print(firstname)"
   ]
  },
  {
   "cell_type": "code",
   "execution_count": 11,
   "id": "eea2c740-f111-4260-bba5-ab267684e5d1",
   "metadata": {},
   "outputs": [
    {
     "name": "stdout",
     "output_type": "stream",
     "text": [
      "lakshmikanth padiri\n"
     ]
    }
   ],
   "source": [
    "fullname=f\"{firstname} {lastname}\"\n",
    "print(fullname)"
   ]
  },
  {
   "cell_type": "code",
   "execution_count": 12,
   "id": "663ed295-ba9e-4dac-8f30-eab04317f47b",
   "metadata": {},
   "outputs": [
    {
     "name": "stdout",
     "output_type": "stream",
     "text": [
      "Lakshmikanth Padiri\n"
     ]
    }
   ],
   "source": [
    "print(fullname.title())"
   ]
  },
  {
   "cell_type": "code",
   "execution_count": 15,
   "id": "5bc7cdd4-7fa6-4133-afa9-e21c865179ae",
   "metadata": {},
   "outputs": [
    {
     "name": "stdout",
     "output_type": "stream",
     "text": [
      "Good work,Lakshmikanth Padiri\n"
     ]
    }
   ],
   "source": [
    "message=f\"Good work,{fullname.title()}\"\n",
    "print(message)"
   ]
  },
  {
   "cell_type": "code",
   "execution_count": null,
   "id": "de553d27-25a0-49ad-9db9-97659190d600",
   "metadata": {},
   "outputs": [],
   "source": [
    "#Adding white spaces to strings"
   ]
  },
  {
   "cell_type": "code",
   "execution_count": 16,
   "id": "3a9918c4-c45b-4b0c-ace5-b256dccfbd1b",
   "metadata": {},
   "outputs": [
    {
     "name": "stdout",
     "output_type": "stream",
     "text": [
      "fav_prog_language:pythonjavac++swiftc\n"
     ]
    }
   ],
   "source": [
    "print(\"fav_prog_language:pythonjavac++swiftc\")"
   ]
  },
  {
   "cell_type": "code",
   "execution_count": 17,
   "id": "3d589b18-d5f6-4b4a-95c3-7803815c5ead",
   "metadata": {},
   "outputs": [
    {
     "name": "stdout",
     "output_type": "stream",
     "text": [
      "fav_prog_language:\n",
      "python\n",
      "java\n",
      "c++\n",
      "swift\n",
      "c\n"
     ]
    }
   ],
   "source": [
    "print(\"fav_prog_language:\\npython\\njava\\nc++\\nswift\\nc\") #new line delimitor"
   ]
  },
  {
   "cell_type": "code",
   "execution_count": 18,
   "id": "a1a628b9-4377-4192-818e-42a35d05fccf",
   "metadata": {},
   "outputs": [
    {
     "name": "stdout",
     "output_type": "stream",
     "text": [
      "fav_prog_language:\n",
      "\tpython\n",
      "\tjava\n",
      "\tc++\n",
      "\tswift\n",
      "\tc\n"
     ]
    }
   ],
   "source": [
    "print(\"fav_prog_language:\\n\\tpython\\n\\tjava\\n\\tc++\\n\\tswift\\n\\tc\") # tab delimitor"
   ]
  },
  {
   "cell_type": "code",
   "execution_count": null,
   "id": "43d3dbd0-be7f-4fd7-958f-dd094b695fd0",
   "metadata": {},
   "outputs": [],
   "source": [
    "#Removing whitespaces from the strings"
   ]
  },
  {
   "cell_type": "code",
   "execution_count": 19,
   "id": "22a73c13-2316-4363-9a86-acc9497a12d5",
   "metadata": {},
   "outputs": [
    {
     "name": "stdout",
     "output_type": "stream",
     "text": [
      " python\n"
     ]
    }
   ],
   "source": [
    "name=\" python\"   # gap on the left side\n",
    "print(name)"
   ]
  },
  {
   "cell_type": "code",
   "execution_count": 20,
   "id": "4ab0e8a7-9138-4dc2-9d23-b43a45d0e8d0",
   "metadata": {},
   "outputs": [
    {
     "name": "stdout",
     "output_type": "stream",
     "text": [
      "python \n"
     ]
    }
   ],
   "source": [
    "name1=\"python \"   # gap on the right side\n",
    "print(name1)"
   ]
  },
  {
   "cell_type": "code",
   "execution_count": 21,
   "id": "d8bb68a3-7644-4dd2-933c-3eab0cfe0021",
   "metadata": {},
   "outputs": [
    {
     "name": "stdout",
     "output_type": "stream",
     "text": [
      "  python  \n"
     ]
    }
   ],
   "source": [
    "name2=\"  python  \"  # gap on both the sides\n",
    "print(name2)"
   ]
  },
  {
   "cell_type": "code",
   "execution_count": 22,
   "id": "8fefd689-69d7-4515-9ec7-195b7a9f950b",
   "metadata": {},
   "outputs": [
    {
     "data": {
      "text/plain": [
       "'python'"
      ]
     },
     "execution_count": 22,
     "metadata": {},
     "output_type": "execute_result"
    }
   ],
   "source": [
    "name.lstrip()    # lstrip is used for removing the gap on left side of the string"
   ]
  },
  {
   "cell_type": "code",
   "execution_count": 23,
   "id": "3417b186-d985-44c3-a208-a6423d67232d",
   "metadata": {},
   "outputs": [
    {
     "data": {
      "text/plain": [
       "'python'"
      ]
     },
     "execution_count": 23,
     "metadata": {},
     "output_type": "execute_result"
    }
   ],
   "source": [
    "name1.rstrip()   # rstrip is used for removing the gap on right side of the string"
   ]
  },
  {
   "cell_type": "code",
   "execution_count": 24,
   "id": "1ff73a3f-011e-44b4-9838-b8a7f8f6ba9b",
   "metadata": {},
   "outputs": [
    {
     "data": {
      "text/plain": [
       "'python'"
      ]
     },
     "execution_count": 24,
     "metadata": {},
     "output_type": "execute_result"
    }
   ],
   "source": [
    "name2.strip()    # strip is used for removing the gaps on both side"
   ]
  },
  {
   "cell_type": "code",
   "execution_count": null,
   "id": "fdc83a98-35ac-4635-82f5-7742528dfe5b",
   "metadata": {},
   "outputs": [],
   "source": []
  }
 ],
 "metadata": {
  "kernelspec": {
   "display_name": "Python 3 (ipykernel)",
   "language": "python",
   "name": "python3"
  },
  "language_info": {
   "codemirror_mode": {
    "name": "ipython",
    "version": 3
   },
   "file_extension": ".py",
   "mimetype": "text/x-python",
   "name": "python",
   "nbconvert_exporter": "python",
   "pygments_lexer": "ipython3",
   "version": "3.11.7"
  }
 },
 "nbformat": 4,
 "nbformat_minor": 5
}
